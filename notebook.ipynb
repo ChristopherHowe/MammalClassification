{
 "cells": [
  {
   "cell_type": "markdown",
   "metadata": {},
   "source": [
    "# Setup Dependencies"
   ]
  },
  {
   "cell_type": "code",
   "execution_count": 1,
   "metadata": {},
   "outputs": [
    {
     "name": "stdout",
     "output_type": "stream",
     "text": []
    }
   ],
   "source": [
    "from transformers import pipeline\n",
    "import kagglehub\n",
    "import os\n",
    "import pandas as pd\n",
    "from utils import get_files_in_dir\n",
    "from pandasql import sqldf"
   ]
  },
  {
   "cell_type": "markdown",
   "metadata": {},
   "source": [
    "# Get Model and Data"
   ]
  },
  {
   "cell_type": "code",
   "execution_count": 4,
   "metadata": {},
   "outputs": [
    {
     "name": "stdout",
     "output_type": "stream",
     "text": []
    },
    {
     "name": "stdout",
     "output_type": "stream",
     "text": []
    }
   ],
   "source": [
    "model_name = \"openai/clip-vit-large-patch14-336\"\n",
    "classifier = pipeline(\"zero-shot-image-classification\", model = model_name, use_fast=True)\n",
    "\n",
    "path = kagglehub.dataset_download(\"gpreda/happy-mammals-with-128x128-image-size\")\n",
    "\n",
    "print(\"Path to dataset files:\", path)\n",
    "\n",
    "image_paths =  get_files_in_dir(f\"{path}/train_images_128\")\n",
    "labels_path=\"train.csv\"\n",
    "\n",
    "labels = pd.read_csv(labels_path, index_col=\"image\")"
   ]
  },
  {
   "cell_type": "markdown",
   "metadata": {},
   "source": [
    "# Collect all possible labels and setup results table"
   ]
  },
  {
   "cell_type": "code",
   "execution_count": 8,
   "metadata": {},
   "outputs": [
    {
     "name": "stdout",
     "output_type": "stream",
     "text": []
    },
    {
     "name": "stdout",
     "output_type": "stream",
     "text": []
    }
   ],
   "source": [
    "possible_labels=labels[\"species\"].unique()\n",
    "print(f\"Number of categories:{len(possible_labels)}\")\n",
    "print(f\"Categorizing images into the following species: {\", \".join(possible_labels)}\")\n",
    "\n",
    "results=pd.DataFrame(columns=[\"image_name\",\"label\", \"prediction\",\"is_prediction_correct\"])\n",
    "results[\"is_prediction_correct\"].astype(bool)"
   ]
  },
  {
   "cell_type": "markdown",
   "metadata": {},
   "source": [
    "# Generate all predictions"
   ]
  },
  {
   "cell_type": "code",
   "execution_count": 6,
   "metadata": {},
   "outputs": [
    {
     "name": "stdout",
     "output_type": "stream",
     "text": []
    },
    {
     "name": "stdout",
     "output_type": "stream",
     "text": []
    },
    {
     "name": "stdout",
     "output_type": "stream",
     "text": []
    }
   ],
   "source": [
    "image_names = [os.path.basename(image_path) for image_path in image_paths]\n",
    "\n",
    "true_labels = labels.loc[image_names, \"species\"].tolist()\n",
    "\n",
    "batch_size = 8\n",
    "max_num_batches=100\n",
    "\n",
    "for i in range(0, len(image_paths), batch_size):\n",
    "    batch_num=i // batch_size + 1\n",
    "    \n",
    "    if batch_num >= max_num_batches:\n",
    "        break\n",
    "\n",
    "    batch_image_paths = image_paths[i:i + batch_size]\n",
    "    batch_image_names = image_names[i:i + batch_size]\n",
    "    batch_true_labels = true_labels[i:i + batch_size]\n",
    "\n",
    "    print(f\"Generating scores for batch {batch_num}\")\n",
    "    batch_scores = classifier(batch_image_paths, candidate_labels=possible_labels)\n",
    "\n",
    "    for image_name, label, scores in zip(batch_image_names, batch_true_labels, batch_scores):\n",
    "        prediction = scores[0]['label']\n",
    "        is_prediction_correct = label == prediction\n",
    "\n",
    "        result=pd.DataFrame([{\n",
    "            \"image_name\": image_name,\n",
    "            \"is_prediction_correct\": is_prediction_correct,\n",
    "            \"label\": label,\n",
    "            \"prediction\": prediction\n",
    "        }])\n",
    "        results = pd.concat([results, result], ignore_index=True)\n",
    "\n",
    "\n",
    "    print(f\"Processed batch {batch_num}/{(len(image_paths) + batch_size - 1) // batch_size}\")\n",
    "\n",
    "print(\"Classification complete.\")"
   ]
  },
  {
   "cell_type": "markdown",
   "metadata": {},
   "source": [
    "# Accuracy Analysis"
   ]
  },
  {
   "cell_type": "code",
   "execution_count": 7,
   "metadata": {},
   "outputs": [
    {
     "name": "stdout",
     "output_type": "stream",
     "text": []
    },
    {
     "name": "stdout",
     "output_type": "stream",
     "text": []
    }
   ],
   "source": [
    "print(\"\")\n",
    "numCorrect=results[\"is_prediction_correct\"].sum()\n",
    "accuracy=numCorrect/len(results[\"is_prediction_correct\"])\n",
    "print(f\"num correct: {numCorrect} Accuracy: {accuracy}\")\n",
    "\n",
    "\n",
    "query1=\"\"\"SELECT label, \n",
    "COUNT(CASE WHEN is_prediction_correct = FALSE THEN 1 END) AS num_incorrect, \n",
    "COUNT(*) AS total,\n",
    "ROUND(CAST(COUNT(CASE WHEN is_prediction_correct = TRUE THEN 1 END) AS FLOAT)/COUNT(label),3) AS label_accuracy\n",
    "FROM results \n",
    "GROUP BY label \n",
    "ORDER BY label_accuracy DESC\"\"\"\n",
    "sqldf(query1)\n"
   ]
  },
  {
   "cell_type": "code",
   "execution_count": null,
   "metadata": {},
   "outputs": [],
   "source": []
  }
 ],
 "metadata": {
  "kernelspec": {
   "display_name": "zero-shot",
   "language": "python",
   "name": "python3"
  },
  "language_info": {
   "codemirror_mode": {
    "name": "ipython",
    "version": 3
   },
   "file_extension": ".py",
   "mimetype": "text/x-python",
   "name": "python",
   "nbconvert_exporter": "python",
   "pygments_lexer": "ipython3",
   "version": "3.13.2"
  }
 },
 "nbformat": 4,
 "nbformat_minor": 2
}
